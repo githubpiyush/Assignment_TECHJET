{
  "nbformat": 4,
  "nbformat_minor": 0,
  "metadata": {
    "colab": {
      "name": "Face_landmark.ipynb",
      "version": "0.3.2",
      "provenance": []
    },
    "kernelspec": {
      "name": "python3",
      "display_name": "Python 3"
    },
    "accelerator": "GPU"
  },
  "cells": [
    {
      "metadata": {
        "id": "iPnZNiwBU39w",
        "colab_type": "code",
        "outputId": "a0dcfcf9-48db-4e12-d473-86b9994b8f25",
        "colab": {
          "base_uri": "https://localhost:8080/",
          "height": 228
        }
      },
      "cell_type": "code",
      "source": [
        "!apt-get install -y -qq software-properties-common python-software-properties module-init-tools\n",
        "!add-apt-repository -y ppa:alessandro-strada/ppa 2>&1 > /dev/null\n",
        "!apt-get update -qq 2>&1 > /dev/null\n",
        "!apt-get -y install -qq google-drive-ocamlfuse fuse\n",
        "from google.colab import auth\n",
        "auth.authenticate_user()\n",
        "from oauth2client.client import GoogleCredentials\n",
        "creds = GoogleCredentials.get_application_default()\n",
        "import getpass\n",
        "!google-drive-ocamlfuse -headless -id={creds.client_id} -secret={creds.client_secret} < /dev/null 2>&1 | grep URL\n",
        "vcode = getpass.getpass()\n",
        "!echo {vcode} | google-drive-ocamlfuse -headless -id={creds.client_id} -secret={creds.client_secret}"
      ],
      "execution_count": 3,
      "outputs": [
        {
          "output_type": "stream",
          "text": [
            "E: Package 'python-software-properties' has no installation candidate\n",
            "Selecting previously unselected package google-drive-ocamlfuse.\n",
            "(Reading database ... 131323 files and directories currently installed.)\n",
            "Preparing to unpack .../google-drive-ocamlfuse_0.7.1-0ubuntu3~ubuntu18.04.1_amd64.deb ...\n",
            "Unpacking google-drive-ocamlfuse (0.7.1-0ubuntu3~ubuntu18.04.1) ...\n",
            "Setting up google-drive-ocamlfuse (0.7.1-0ubuntu3~ubuntu18.04.1) ...\n",
            "Processing triggers for man-db (2.8.3-2ubuntu0.1) ...\n",
            "Please, open the following URL in a web browser: https://accounts.google.com/o/oauth2/auth?client_id=32555940559.apps.googleusercontent.com&redirect_uri=urn%3Aietf%3Awg%3Aoauth%3A2.0%3Aoob&scope=https%3A%2F%2Fwww.googleapis.com%2Fauth%2Fdrive&response_type=code&access_type=offline&approval_prompt=force\n",
            "··········\n",
            "Please, open the following URL in a web browser: https://accounts.google.com/o/oauth2/auth?client_id=32555940559.apps.googleusercontent.com&redirect_uri=urn%3Aietf%3Awg%3Aoauth%3A2.0%3Aoob&scope=https%3A%2F%2Fwww.googleapis.com%2Fauth%2Fdrive&response_type=code&access_type=offline&approval_prompt=force\n",
            "Please enter the verification code: Access token retrieved correctly.\n"
          ],
          "name": "stdout"
        }
      ]
    },
    {
      "metadata": {
        "id": "q3Q3LWhwVE3u",
        "colab_type": "code",
        "colab": {}
      },
      "cell_type": "code",
      "source": [
        "!mkdir -p drive\n",
        "!google-drive-ocamlfuse drive"
      ],
      "execution_count": 0,
      "outputs": []
    },
    {
      "metadata": {
        "id": "IkGPs85KZ99r",
        "colab_type": "code",
        "colab": {
          "base_uri": "https://localhost:8080/",
          "height": 34
        },
        "outputId": "81abb362-ac99-4f74-ffdd-aaaeff8b9ed9"
      },
      "cell_type": "code",
      "source": [
        "import numpy as np\n",
        "import matplotlib.pyplot as plt\n",
        "import os\n",
        "import cv2\n",
        "from keras.models import load_model\n",
        "from sklearn.model_selection import train_test_split\n",
        "from keras.models import Sequential\n",
        "from keras.layers import Dense, Dropout, Activation, Flatten\n",
        "from keras.layers import Convolution2D, MaxPooling2D\n",
        "from keras.optimizers import SGD,Adam\n",
        "from keras.regularizers import l2\n",
        "from keras.utils import np_utils,to_categorical\n",
        "from keras.callbacks import EarlyStopping\n",
        "from sklearn import metrics\n",
        "from sklearn import preprocessing"
      ],
      "execution_count": 5,
      "outputs": [
        {
          "output_type": "stream",
          "text": [
            "Using TensorFlow backend.\n"
          ],
          "name": "stderr"
        }
      ]
    },
    {
      "metadata": {
        "id": "-2WaFBIHV7A9",
        "colab_type": "code",
        "colab": {}
      },
      "cell_type": "code",
      "source": [
        "from keras.models import Sequential\n",
        "import numpy as np\n",
        "from keras.layers import Dense, InputLayer, Dropout, LSTM\n",
        "from keras.optimizers import SGD,Adam\n",
        "from sklearn.model_selection import train_test_split\n",
        "from keras.callbacks import EarlyStopping, ModelCheckpoint"
      ],
      "execution_count": 0,
      "outputs": []
    },
    {
      "metadata": {
        "id": "UxppPzesVJ-L",
        "colab_type": "code",
        "colab": {}
      },
      "cell_type": "code",
      "source": [
        "def get_my_CNN_model_architecture():\n",
        "    model = Sequential()\n",
        "    model.add(Convolution2D(32, (5, 5), input_shape=(96,96,3), activation='relu'))\n",
        "    model.add(MaxPooling2D(pool_size=(2, 2)))\n",
        "\n",
        "    model.add(Convolution2D(64, (3, 3), activation='relu'))\n",
        "    model.add(MaxPooling2D(pool_size=(2, 2)))\n",
        "    model.add(Dropout(0.1))\n",
        "\n",
        "    model.add(Convolution2D(128, (3, 3), activation='relu'))\n",
        "    model.add(MaxPooling2D(pool_size=(2, 2)))\n",
        "    model.add(Dropout(0.2))\n",
        "\n",
        "    model.add(Convolution2D(30, (3, 3), activation='relu'))\n",
        "    model.add(MaxPooling2D(pool_size=(2, 2)))\n",
        "    model.add(Dropout(0.3))\n",
        "\n",
        "    model.add(Flatten())\n",
        "\n",
        "    model.add(Dense(64, activation='relu'))\n",
        "    model.add(Dense(128, activation='relu'))\n",
        "    model.add(Dense(256, activation='relu'))\n",
        "    model.add(Dense(64, activation='relu'))\n",
        "    model.add(Dense(8))\n",
        "\n",
        "    return model\n",
        "\n",
        "def compile_my_CNN_model(model, optimizer, loss, metrics):\n",
        "    model.compile(optimizer=optimizer, loss=loss, metrics=metrics)\n",
        "\n",
        "def train_my_CNN_model(model, X_train, y_train):\n",
        "    return model.fit(X_train, y_train, epochs=100, batch_size=32, verbose=1, validation_split=0.2)\n",
        "\n",
        "def save_my_CNN_model(model, fileName):\n",
        "    model.save(fileName + '.h5')\n",
        "\n",
        "def load_my_CNN_model(fileName):\n",
        "    return load_model(fileName + '.h5')"
      ],
      "execution_count": 0,
      "outputs": []
    },
    {
      "metadata": {
        "id": "4mZ7qJPkWNlo",
        "colab_type": "code",
        "outputId": "afcb6d9a-c91d-4afb-d88c-325117f6ef85",
        "colab": {
          "base_uri": "https://localhost:8080/",
          "height": 3560
        }
      },
      "cell_type": "code",
      "source": [
        "input_data = np.load('drive/image_train.npy')\n",
        "output_data = np.load('drive/landmark.npy')\n",
        "# Load training set\n",
        "train_x, test_x, train_y, test_y = train_test_split(input_data, output_data, test_size=0.2, random_state=42)\n",
        "\n",
        "# Setting the CNN architecture\n",
        "my_model = get_my_CNN_model_architecture()\n",
        "\n",
        "# Compiling the CNN model with an appropriate optimizer and loss and metrics\n",
        "compile_my_CNN_model(my_model, optimizer = 'adam', loss = 'mean_squared_error', metrics = ['accuracy'])\n",
        "\n",
        "# Training the model\n",
        "hist = train_my_CNN_model(my_model, train_x, train_y)\n",
        "\n",
        "# Saving the model\n",
        "save_my_CNN_model(my_model, 'drive/my_model')\n"
      ],
      "execution_count": 0,
      "outputs": [
        {
          "output_type": "stream",
          "text": [
            "Train on 102 samples, validate on 26 samples\n",
            "Epoch 1/100\n",
            "102/102 [==============================] - 1s 9ms/step - loss: 2284.1395 - acc: 0.0000e+00 - val_loss: 2235.1851 - val_acc: 0.0000e+00\n",
            "Epoch 2/100\n",
            "102/102 [==============================] - 0s 2ms/step - loss: 2087.6777 - acc: 0.0000e+00 - val_loss: 1417.4401 - val_acc: 0.0000e+00\n",
            "Epoch 3/100\n",
            "102/102 [==============================] - 0s 2ms/step - loss: 1033.8170 - acc: 0.0000e+00 - val_loss: 473.3558 - val_acc: 0.0000e+00\n",
            "Epoch 4/100\n",
            "102/102 [==============================] - 0s 2ms/step - loss: 424.0890 - acc: 0.0000e+00 - val_loss: 373.3983 - val_acc: 0.0000e+00\n",
            "Epoch 5/100\n",
            "102/102 [==============================] - 0s 2ms/step - loss: 165.8946 - acc: 0.7059 - val_loss: 93.4627 - val_acc: 1.0000\n",
            "Epoch 6/100\n",
            "102/102 [==============================] - 0s 2ms/step - loss: 124.9443 - acc: 1.0000 - val_loss: 211.5413 - val_acc: 1.0000\n",
            "Epoch 7/100\n",
            "102/102 [==============================] - 0s 2ms/step - loss: 124.2994 - acc: 1.0000 - val_loss: 95.6444 - val_acc: 1.0000\n",
            "Epoch 8/100\n",
            "102/102 [==============================] - 0s 2ms/step - loss: 84.5569 - acc: 1.0000 - val_loss: 95.7630 - val_acc: 1.0000\n",
            "Epoch 9/100\n",
            "102/102 [==============================] - 0s 1ms/step - loss: 73.9296 - acc: 1.0000 - val_loss: 118.5116 - val_acc: 1.0000\n",
            "Epoch 10/100\n",
            "102/102 [==============================] - 0s 1ms/step - loss: 58.7227 - acc: 1.0000 - val_loss: 58.7483 - val_acc: 1.0000\n",
            "Epoch 11/100\n",
            "102/102 [==============================] - 0s 2ms/step - loss: 61.0958 - acc: 1.0000 - val_loss: 146.9584 - val_acc: 1.0000\n",
            "Epoch 12/100\n",
            "102/102 [==============================] - 0s 1ms/step - loss: 60.1774 - acc: 1.0000 - val_loss: 59.4644 - val_acc: 1.0000\n",
            "Epoch 13/100\n",
            "102/102 [==============================] - 0s 1ms/step - loss: 50.1415 - acc: 1.0000 - val_loss: 101.6524 - val_acc: 1.0000\n",
            "Epoch 14/100\n",
            "102/102 [==============================] - 0s 1ms/step - loss: 54.4700 - acc: 1.0000 - val_loss: 59.6950 - val_acc: 1.0000\n",
            "Epoch 15/100\n",
            "102/102 [==============================] - 0s 1ms/step - loss: 51.1612 - acc: 1.0000 - val_loss: 92.5051 - val_acc: 1.0000\n",
            "Epoch 16/100\n",
            "102/102 [==============================] - 0s 1ms/step - loss: 48.1326 - acc: 1.0000 - val_loss: 67.4538 - val_acc: 1.0000\n",
            "Epoch 17/100\n",
            "102/102 [==============================] - 0s 1ms/step - loss: 47.5536 - acc: 1.0000 - val_loss: 89.5623 - val_acc: 1.0000\n",
            "Epoch 18/100\n",
            "102/102 [==============================] - 0s 1ms/step - loss: 61.9315 - acc: 1.0000 - val_loss: 73.5184 - val_acc: 1.0000\n",
            "Epoch 19/100\n",
            "102/102 [==============================] - 0s 1ms/step - loss: 46.1796 - acc: 1.0000 - val_loss: 62.1164 - val_acc: 1.0000\n",
            "Epoch 20/100\n",
            "102/102 [==============================] - 0s 2ms/step - loss: 38.0571 - acc: 1.0000 - val_loss: 92.9402 - val_acc: 1.0000\n",
            "Epoch 21/100\n",
            "102/102 [==============================] - 0s 1ms/step - loss: 49.4094 - acc: 1.0000 - val_loss: 55.7616 - val_acc: 1.0000\n",
            "Epoch 22/100\n",
            "102/102 [==============================] - 0s 2ms/step - loss: 44.6604 - acc: 1.0000 - val_loss: 64.1966 - val_acc: 1.0000\n",
            "Epoch 23/100\n",
            "102/102 [==============================] - 0s 1ms/step - loss: 61.5667 - acc: 1.0000 - val_loss: 101.0237 - val_acc: 1.0000\n",
            "Epoch 24/100\n",
            "102/102 [==============================] - 0s 1ms/step - loss: 50.0674 - acc: 1.0000 - val_loss: 49.7925 - val_acc: 1.0000\n",
            "Epoch 25/100\n",
            "102/102 [==============================] - 0s 1ms/step - loss: 39.7081 - acc: 1.0000 - val_loss: 91.1586 - val_acc: 1.0000\n",
            "Epoch 26/100\n",
            "102/102 [==============================] - 0s 1ms/step - loss: 42.3448 - acc: 1.0000 - val_loss: 43.4974 - val_acc: 1.0000\n",
            "Epoch 27/100\n",
            "102/102 [==============================] - 0s 1ms/step - loss: 46.0345 - acc: 1.0000 - val_loss: 100.4246 - val_acc: 1.0000\n",
            "Epoch 28/100\n",
            "102/102 [==============================] - 0s 1ms/step - loss: 55.6014 - acc: 1.0000 - val_loss: 47.7578 - val_acc: 1.0000\n",
            "Epoch 29/100\n",
            "102/102 [==============================] - 0s 1ms/step - loss: 39.9031 - acc: 1.0000 - val_loss: 75.6023 - val_acc: 1.0000\n",
            "Epoch 30/100\n",
            "102/102 [==============================] - 0s 1ms/step - loss: 34.9593 - acc: 1.0000 - val_loss: 38.0889 - val_acc: 1.0000\n",
            "Epoch 31/100\n",
            "102/102 [==============================] - 0s 1ms/step - loss: 48.4794 - acc: 1.0000 - val_loss: 141.2681 - val_acc: 1.0000\n",
            "Epoch 32/100\n",
            "102/102 [==============================] - 0s 1ms/step - loss: 53.9745 - acc: 1.0000 - val_loss: 35.8238 - val_acc: 1.0000\n",
            "Epoch 33/100\n",
            "102/102 [==============================] - 0s 1ms/step - loss: 46.6363 - acc: 1.0000 - val_loss: 152.0542 - val_acc: 1.0000\n",
            "Epoch 34/100\n",
            "102/102 [==============================] - 0s 1ms/step - loss: 56.0897 - acc: 1.0000 - val_loss: 39.5747 - val_acc: 1.0000\n",
            "Epoch 35/100\n",
            "102/102 [==============================] - 0s 1ms/step - loss: 33.6179 - acc: 1.0000 - val_loss: 99.8926 - val_acc: 1.0000\n",
            "Epoch 36/100\n",
            "102/102 [==============================] - 0s 1ms/step - loss: 44.0643 - acc: 1.0000 - val_loss: 45.9763 - val_acc: 1.0000\n",
            "Epoch 37/100\n",
            "102/102 [==============================] - 0s 2ms/step - loss: 40.4045 - acc: 1.0000 - val_loss: 44.4667 - val_acc: 1.0000\n",
            "Epoch 38/100\n",
            "102/102 [==============================] - 0s 1ms/step - loss: 33.8813 - acc: 1.0000 - val_loss: 81.3726 - val_acc: 1.0000\n",
            "Epoch 39/100\n",
            "102/102 [==============================] - 0s 1ms/step - loss: 39.0549 - acc: 1.0000 - val_loss: 49.4272 - val_acc: 1.0000\n",
            "Epoch 40/100\n",
            "102/102 [==============================] - 0s 1ms/step - loss: 35.2703 - acc: 1.0000 - val_loss: 55.6945 - val_acc: 1.0000\n",
            "Epoch 41/100\n",
            "102/102 [==============================] - 0s 1ms/step - loss: 40.4469 - acc: 1.0000 - val_loss: 60.1495 - val_acc: 1.0000\n",
            "Epoch 42/100\n",
            "102/102 [==============================] - 0s 1ms/step - loss: 40.5773 - acc: 1.0000 - val_loss: 66.0613 - val_acc: 1.0000\n",
            "Epoch 43/100\n",
            "102/102 [==============================] - 0s 1ms/step - loss: 36.6855 - acc: 1.0000 - val_loss: 62.7754 - val_acc: 1.0000\n",
            "Epoch 44/100\n",
            "102/102 [==============================] - 0s 1ms/step - loss: 29.7595 - acc: 1.0000 - val_loss: 74.7917 - val_acc: 1.0000\n",
            "Epoch 45/100\n",
            "102/102 [==============================] - 0s 1ms/step - loss: 35.8170 - acc: 1.0000 - val_loss: 35.9631 - val_acc: 1.0000\n",
            "Epoch 46/100\n",
            "102/102 [==============================] - 0s 1ms/step - loss: 36.2747 - acc: 1.0000 - val_loss: 52.4424 - val_acc: 1.0000\n",
            "Epoch 47/100\n",
            "102/102 [==============================] - 0s 1ms/step - loss: 40.5147 - acc: 1.0000 - val_loss: 109.5212 - val_acc: 1.0000\n",
            "Epoch 48/100\n",
            "102/102 [==============================] - 0s 1ms/step - loss: 35.2783 - acc: 1.0000 - val_loss: 32.3328 - val_acc: 1.0000\n",
            "Epoch 49/100\n",
            "102/102 [==============================] - 0s 1ms/step - loss: 44.9597 - acc: 1.0000 - val_loss: 78.0357 - val_acc: 1.0000\n",
            "Epoch 50/100\n",
            "102/102 [==============================] - 0s 2ms/step - loss: 38.5682 - acc: 1.0000 - val_loss: 63.3665 - val_acc: 1.0000\n",
            "Epoch 51/100\n",
            "102/102 [==============================] - 0s 1ms/step - loss: 35.8938 - acc: 1.0000 - val_loss: 39.5806 - val_acc: 1.0000\n",
            "Epoch 52/100\n",
            "102/102 [==============================] - 0s 2ms/step - loss: 34.4339 - acc: 1.0000 - val_loss: 123.6242 - val_acc: 1.0000\n",
            "Epoch 53/100\n",
            "102/102 [==============================] - 0s 1ms/step - loss: 46.5388 - acc: 1.0000 - val_loss: 33.9231 - val_acc: 1.0000\n",
            "Epoch 54/100\n",
            "102/102 [==============================] - 0s 1ms/step - loss: 56.3579 - acc: 1.0000 - val_loss: 154.1047 - val_acc: 1.0000\n",
            "Epoch 55/100\n",
            "102/102 [==============================] - 0s 1ms/step - loss: 46.7113 - acc: 1.0000 - val_loss: 29.6390 - val_acc: 1.0000\n",
            "Epoch 56/100\n",
            "102/102 [==============================] - 0s 1ms/step - loss: 48.6342 - acc: 1.0000 - val_loss: 98.6565 - val_acc: 1.0000\n",
            "Epoch 57/100\n",
            "102/102 [==============================] - 0s 1ms/step - loss: 45.0402 - acc: 1.0000 - val_loss: 40.7851 - val_acc: 1.0000\n",
            "Epoch 58/100\n",
            "102/102 [==============================] - 0s 1ms/step - loss: 42.6035 - acc: 1.0000 - val_loss: 63.9501 - val_acc: 1.0000\n",
            "Epoch 59/100\n",
            "102/102 [==============================] - 0s 1ms/step - loss: 40.6779 - acc: 1.0000 - val_loss: 72.7551 - val_acc: 1.0000\n",
            "Epoch 60/100\n",
            "102/102 [==============================] - 0s 1ms/step - loss: 35.7102 - acc: 1.0000 - val_loss: 47.9467 - val_acc: 1.0000\n",
            "Epoch 61/100\n",
            "102/102 [==============================] - 0s 1ms/step - loss: 24.9899 - acc: 1.0000 - val_loss: 76.0220 - val_acc: 1.0000\n",
            "Epoch 62/100\n",
            "102/102 [==============================] - 0s 1ms/step - loss: 27.5467 - acc: 1.0000 - val_loss: 31.5500 - val_acc: 1.0000\n",
            "Epoch 63/100\n",
            "102/102 [==============================] - 0s 1ms/step - loss: 31.2640 - acc: 1.0000 - val_loss: 94.6918 - val_acc: 1.0000\n",
            "Epoch 64/100\n",
            "102/102 [==============================] - 0s 1ms/step - loss: 35.0614 - acc: 1.0000 - val_loss: 27.5764 - val_acc: 1.0000\n",
            "Epoch 65/100\n",
            "102/102 [==============================] - 0s 1ms/step - loss: 38.0898 - acc: 1.0000 - val_loss: 118.0898 - val_acc: 1.0000\n",
            "Epoch 66/100\n",
            "102/102 [==============================] - 0s 1ms/step - loss: 43.4686 - acc: 1.0000 - val_loss: 35.5840 - val_acc: 1.0000\n",
            "Epoch 67/100\n",
            "102/102 [==============================] - 0s 1ms/step - loss: 35.9033 - acc: 1.0000 - val_loss: 71.7804 - val_acc: 1.0000\n",
            "Epoch 68/100\n",
            "102/102 [==============================] - 0s 1ms/step - loss: 33.2134 - acc: 1.0000 - val_loss: 48.7024 - val_acc: 1.0000\n",
            "Epoch 69/100\n",
            "102/102 [==============================] - 0s 1ms/step - loss: 35.6298 - acc: 1.0000 - val_loss: 45.3668 - val_acc: 1.0000\n",
            "Epoch 70/100\n",
            "102/102 [==============================] - 0s 1ms/step - loss: 32.2165 - acc: 1.0000 - val_loss: 100.4431 - val_acc: 1.0000\n",
            "Epoch 71/100\n",
            "102/102 [==============================] - 0s 1ms/step - loss: 41.2610 - acc: 1.0000 - val_loss: 26.0651 - val_acc: 1.0000\n",
            "Epoch 72/100\n",
            "102/102 [==============================] - 0s 1ms/step - loss: 43.5463 - acc: 1.0000 - val_loss: 117.0501 - val_acc: 1.0000\n",
            "Epoch 73/100\n",
            "102/102 [==============================] - 0s 1ms/step - loss: 41.4014 - acc: 1.0000 - val_loss: 25.4995 - val_acc: 1.0000\n",
            "Epoch 74/100\n",
            "102/102 [==============================] - 0s 1ms/step - loss: 39.7276 - acc: 1.0000 - val_loss: 75.2999 - val_acc: 1.0000\n",
            "Epoch 75/100\n",
            "102/102 [==============================] - 0s 1ms/step - loss: 31.5264 - acc: 1.0000 - val_loss: 37.3933 - val_acc: 1.0000\n",
            "Epoch 76/100\n",
            "102/102 [==============================] - 0s 1ms/step - loss: 30.1544 - acc: 1.0000 - val_loss: 52.8806 - val_acc: 1.0000\n",
            "Epoch 77/100\n",
            "102/102 [==============================] - 0s 1ms/step - loss: 24.5858 - acc: 1.0000 - val_loss: 31.0203 - val_acc: 1.0000\n",
            "Epoch 78/100\n",
            "102/102 [==============================] - 0s 1ms/step - loss: 28.7052 - acc: 1.0000 - val_loss: 53.7127 - val_acc: 1.0000\n",
            "Epoch 79/100\n",
            "102/102 [==============================] - 0s 1ms/step - loss: 25.8008 - acc: 1.0000 - val_loss: 29.8738 - val_acc: 1.0000\n",
            "Epoch 80/100\n",
            "102/102 [==============================] - 0s 1ms/step - loss: 23.4776 - acc: 1.0000 - val_loss: 89.5023 - val_acc: 1.0000\n",
            "Epoch 81/100\n",
            "102/102 [==============================] - 0s 1ms/step - loss: 30.3918 - acc: 1.0000 - val_loss: 33.4742 - val_acc: 1.0000\n",
            "Epoch 82/100\n",
            "102/102 [==============================] - 0s 1ms/step - loss: 26.4182 - acc: 1.0000 - val_loss: 37.5499 - val_acc: 1.0000\n",
            "Epoch 83/100\n",
            "102/102 [==============================] - 0s 1ms/step - loss: 29.1609 - acc: 1.0000 - val_loss: 85.0496 - val_acc: 1.0000\n",
            "Epoch 84/100\n",
            "102/102 [==============================] - 0s 1ms/step - loss: 30.9870 - acc: 1.0000 - val_loss: 30.9848 - val_acc: 1.0000\n",
            "Epoch 85/100\n",
            "102/102 [==============================] - 0s 1ms/step - loss: 24.2592 - acc: 1.0000 - val_loss: 35.1385 - val_acc: 1.0000\n",
            "Epoch 86/100\n",
            "102/102 [==============================] - 0s 1ms/step - loss: 28.4918 - acc: 1.0000 - val_loss: 76.7338 - val_acc: 1.0000\n",
            "Epoch 87/100\n",
            "102/102 [==============================] - 0s 1ms/step - loss: 29.2912 - acc: 1.0000 - val_loss: 24.8242 - val_acc: 1.0000\n",
            "Epoch 88/100\n",
            "102/102 [==============================] - 0s 1ms/step - loss: 26.5992 - acc: 1.0000 - val_loss: 73.6880 - val_acc: 1.0000\n",
            "Epoch 89/100\n",
            "102/102 [==============================] - 0s 1ms/step - loss: 24.2806 - acc: 1.0000 - val_loss: 21.8543 - val_acc: 1.0000\n",
            "Epoch 90/100\n",
            "102/102 [==============================] - 0s 1ms/step - loss: 26.6556 - acc: 1.0000 - val_loss: 75.5720 - val_acc: 1.0000\n",
            "Epoch 91/100\n",
            "102/102 [==============================] - 0s 1ms/step - loss: 34.9769 - acc: 1.0000 - val_loss: 42.2311 - val_acc: 1.0000\n",
            "Epoch 92/100\n",
            "102/102 [==============================] - 0s 1ms/step - loss: 24.3414 - acc: 1.0000 - val_loss: 38.0900 - val_acc: 1.0000\n",
            "Epoch 93/100\n",
            "102/102 [==============================] - 0s 1ms/step - loss: 27.8146 - acc: 1.0000 - val_loss: 74.5808 - val_acc: 1.0000\n",
            "Epoch 94/100\n",
            "102/102 [==============================] - 0s 1ms/step - loss: 27.5184 - acc: 1.0000 - val_loss: 25.7741 - val_acc: 1.0000\n",
            "Epoch 95/100\n",
            "102/102 [==============================] - 0s 1ms/step - loss: 25.2922 - acc: 1.0000 - val_loss: 58.9538 - val_acc: 1.0000\n",
            "Epoch 96/100\n",
            "102/102 [==============================] - 0s 1ms/step - loss: 24.7808 - acc: 1.0000 - val_loss: 55.2703 - val_acc: 1.0000\n",
            "Epoch 97/100\n",
            "102/102 [==============================] - 0s 1ms/step - loss: 25.8960 - acc: 1.0000 - val_loss: 32.5498 - val_acc: 1.0000\n",
            "Epoch 98/100\n",
            "102/102 [==============================] - 0s 1ms/step - loss: 20.5838 - acc: 1.0000 - val_loss: 31.3637 - val_acc: 1.0000\n",
            "Epoch 99/100\n",
            "102/102 [==============================] - 0s 1ms/step - loss: 28.8665 - acc: 1.0000 - val_loss: 41.0441 - val_acc: 1.0000\n",
            "Epoch 100/100\n",
            "102/102 [==============================] - 0s 1ms/step - loss: 25.3312 - acc: 1.0000 - val_loss: 60.1676 - val_acc: 1.0000\n",
            "32/32 [==============================] - 0s 449us/step\n",
            "\n",
            "Accuracy = 1.00\n"
          ],
          "name": "stdout"
        }
      ]
    },
    {
      "metadata": {
        "id": "cIbsJGD8x6On",
        "colab_type": "code",
        "outputId": "98ce757b-8a18-403e-efb0-091acacf6f47",
        "colab": {
          "base_uri": "https://localhost:8080/",
          "height": 347
        }
      },
      "cell_type": "code",
      "source": [
        "# Intializing Epoch list\n",
        "t=[]\n",
        "for i in range(100):\n",
        "    t.append(i)\n",
        "\n",
        "# Plotting Validation and training loss VS Epoch\n",
        "plt.plot(t, hist.history['val_loss'], 'r') # plotting t, a separately \n",
        "plt.plot(t, hist.history['loss'], 'b') # plotting t, b separately \n",
        "plt.gca().legend(('val_loss','train_loss'))\n",
        "plt.show()"
      ],
      "execution_count": 0,
      "outputs": [
        {
          "output_type": "display_data",
          "data": {
            "image/png": "[encoded data removed]",
            "text/plain": [
              "<Figure size 576x396 with 1 Axes>"
            ]
          },
          "metadata": {
            "tags": []
          }
        }
      ]
    },
    {
      "metadata": {
        "id": "fmSM21lMzWs4",
        "colab_type": "code",
        "colab": {}
      },
      "cell_type": "code",
      "source": [
        "# Predicting facial point with the model\n",
        "pre_model = load_my_CNN_model(\"drive/my_model\")\n",
        "img = plt.imread('drive/81.jpg')/255\n",
        "tes = np.reshape(img,(1,96,96,3))\n",
        "coord = pre_model.predict(tes)\n",
        "jaw_x = coord[0][0] \n",
        "jaw_y = coord[0][1]\n",
        "l_eye_x = coord[0][2]\n",
        "l_eye_y = coord[0][3]\n",
        "r_eye_x = coord[0][4]\n",
        "r_eye_y =  coord[0][5]\n",
        "head_x =  coord[0][6]\n",
        "head_y = coord[0][7]"
      ],
      "execution_count": 0,
      "outputs": []
    },
    {
      "metadata": {
        "id": "HOdow0G-1l-5",
        "colab_type": "code",
        "outputId": "59ef6a40-89d3-480e-e30d-6654251b7e58",
        "colab": {
          "base_uri": "https://localhost:8080/",
          "height": 366
        }
      },
      "cell_type": "code",
      "source": [
        "# Showing the points on the input image\n",
        "cv2.circle(img, (int(jaw_x), int(jaw_y)), 1,(0, 0, 255), -1)\n",
        "cv2.circle(img, (int(l_eye_x), int(l_eye_y)), 1,(0, 0, 255), -1)\n",
        "cv2.circle(img, (int(r_eye_x), int(r_eye_y)), 1,(0, 0, 255), -1)\n",
        "cv2.circle(img, (int(head_x), int(head_y)), 1,(0, 0, 255), -1)\n",
        "plt.imshow(img)\n",
        "plt.show()"
      ],
      "execution_count": 11,
      "outputs": [
        {
          "output_type": "stream",
          "text": [
            "Clipping input data to the valid range for imshow with RGB data ([0..1] for floats or [0..255] for integers).\n"
          ],
          "name": "stderr"
        },
        {
          "output_type": "display_data",
          "data": {
            "image/png": "[encoded data removed]",
            "text/plain": [
              "<Figure size 576x396 with 1 Axes>"
            ]
          },
          "metadata": {
            "tags": []
          }
        }
      ]
    },
    {
      "metadata": {
        "id": "223mNLjO5-QY",
        "colab_type": "code",
        "colab": {}
      },
      "cell_type": "code",
      "source": [
        ""
      ],
      "execution_count": 0,
      "outputs": []
    }
  ]
}